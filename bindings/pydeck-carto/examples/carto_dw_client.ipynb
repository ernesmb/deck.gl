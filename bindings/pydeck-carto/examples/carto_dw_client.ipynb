{
 "cells": [
  {
   "cell_type": "markdown",
   "id": "07b2a8ec",
   "metadata": {},
   "source": [
    "# CARTO DW - client\n",
    "\n",
    "Interact with your CARTO DW using a Python client.\n",
    "\n",
    "https://googleapis.dev/python/bigquery/latest/index.html"
   ]
  },
  {
   "cell_type": "code",
   "execution_count": null,
   "id": "30353b70",
   "metadata": {},
   "outputs": [],
   "source": [
    "import pydeck as pdk\n",
    "from pydeck_carto import CartoAuth"
   ]
  },
  {
   "cell_type": "code",
   "execution_count": null,
   "id": "f4a7e937",
   "metadata": {},
   "outputs": [],
   "source": [
    "carto_auth = CartoAuth.from_oauth()"
   ]
  },
  {
   "cell_type": "code",
   "execution_count": null,
   "id": "c65bea8b",
   "metadata": {},
   "outputs": [],
   "source": [
    "project, token = carto_auth.get_carto_dw_credentials()\n",
    "project"
   ]
  },
  {
   "cell_type": "code",
   "execution_count": null,
   "id": "87eb4f85",
   "metadata": {},
   "outputs": [],
   "source": [
    "cdw_client = carto_auth.get_carto_dw_client()"
   ]
  },
  {
   "cell_type": "code",
   "execution_count": null,
   "id": "89ad2747",
   "metadata": {},
   "outputs": [],
   "source": [
    "datasets = cdw_client.list_datasets()\n",
    "print(\"Available datasets:\")\n",
    "for dataset in datasets:\n",
    "    print(\"-\", dataset.dataset_id)"
   ]
  },
  {
   "cell_type": "code",
   "execution_count": null,
   "id": "c247c615",
   "metadata": {},
   "outputs": [],
   "source": [
    "table_list = cdw_client.list_tables(\"shared\")\n",
    "print(\"Available tables in 'shared':\")\n",
    "for table in table_list:\n",
    "    print(\"-\", table.table_id)"
   ]
  }
 ],
 "metadata": {
  "kernelspec": {
   "display_name": "Python 3 (ipykernel)",
   "language": "python",
   "name": "python3"
  },
  "language_info": {
   "codemirror_mode": {
    "name": "ipython",
    "version": 3
   },
   "file_extension": ".py",
   "mimetype": "text/x-python",
   "name": "python",
   "nbconvert_exporter": "python",
   "pygments_lexer": "ipython3",
   "version": "3.8.10"
  },
  "vscode": {
   "interpreter": {
    "hash": "2a79afb8e965a12d310eacafcfa486b1d21189ddbcd5eb97edff3a0711f93ed5"
   }
  }
 },
 "nbformat": 4,
 "nbformat_minor": 5
}
